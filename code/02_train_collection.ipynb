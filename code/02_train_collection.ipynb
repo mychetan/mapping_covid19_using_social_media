{
 "cells": [
  {
   "cell_type": "markdown",
   "metadata": {},
   "source": [
    "# Training Data Collection and EDA\n",
    "\n",
    "In order to develop a NLP model which can predict whether a tweet is referring to a recent, local case of covid-19, we scrapped twitter for ~5,000 posts from March, 2020 that contained the phrase \"tested positive.\" We then manually assigned these tweets as a positive (1) or negative (0). Proper names were removed from tweets to preserve anonymity of posts."
   ]
  },
  {
   "cell_type": "code",
   "execution_count": 1,
   "metadata": {},
   "outputs": [],
   "source": [
    "# Import relevant libraries\n",
    "\n",
    "import pandas as pd\n",
    "import json\n",
    "import pyodbc\n",
    "import shutil\n",
    "import spacy\n",
    "import os\n",
    "import p5_functions as pf\n",
    "from scrapy import cmdline\n",
    "from datetime import datetime, timedelta\n",
    "from os import walk"
   ]
  },
  {
   "cell_type": "markdown",
   "metadata": {},
   "source": [
    "# Data Collection\n",
    "\n",
    "\n",
    "##### This code scrapes 300 \"tested positive\" tweets every two days starting March 1, 2020, over 30 days in order to generate a training data set of ~4,500 tweets. This code should not be run again - to load training and location data, use the csv files included in this repo.\n",
    "\n",
    "```\n",
    "training_df = pd.DataFrame(columns=['user', 'tweet', 'date'])\n",
    "date = '2020-03-01'\n",
    "for x in range(15):\n",
    "    next_day = (datetime.strptime(date, '%Y-%m-%d') + timedelta(days=1)).strftime('%Y-%m-%d')\n",
    "    os.system('scrapy crawl TweetScraper -a query=\"tested positive since:' + date + ' until:' + next_day + '\" -a lang=\"en\"')\n",
    "    day_tweets = pf.create_tweetdf(users=True)\n",
    "    day_tweets['date'] = date\n",
    "    training_df = training_df.append(day_tweets, ignore_index=True)\n",
    "    print('Scraped 300 tweets from date: ' + date)\n",
    "    date = (datetime.strptime(next_day, '%Y-%m-%d') + timedelta(days=1)).strftime('%Y-%m-%d')\n",
    "```"
   ]
  },
  {
   "cell_type": "markdown",
   "metadata": {},
   "source": [
    "~~~\n",
    "# For each unique user in the training data, scrape their profile page for their location if they included that information. Search for both city and state - if the function detects that the user is located outside of the United States, sets state column to 'foreign' and leaves city blank. Drop username for privacy and save to csv\n",
    "\n",
    "unique_users = list(set(training_df['user']))\n",
    "user_dict = {'city':[], 'state':[]}\n",
    "for user in unique_users:\n",
    "    city, state, raw = pf.profile_loc(user)\n",
    "    user_dict['city'].append(city)\n",
    "    user_dict['state'].append(state)\n",
    "user_df = pd.DataFrame.from_dict(user_dict)\n",
    "user_df.to_csv('../data/user_loc.csv', index=False)\n",
    "~~~"
   ]
  },
  {
   "cell_type": "markdown",
   "metadata": {},
   "source": [
    "~~~\n",
    "# For all tweets in the training data set, drop the user column and replace all proper nouns with PROPN for privacy concerns. Save to csv for manual labeling\n",
    "\n",
    "training_df.drop_duplicates(subset='tweet')\n",
    "training_df['tweet'] = [pf.sterilize(x) for x in training_df['tweet']]\n",
    "training_df.drop('user', axis=1, inplace=True)\n",
    "training_df.to_csv('../data/redacted_training.csv', index=False)\n",
    "~~~"
   ]
  },
  {
   "cell_type": "markdown",
   "metadata": {},
   "source": [
    "##### Since no labeled data exists for our particular problem, we manually labeled tweets ourselves for whether a message was referring to a recent, local case of covid-19. Positives were labeled as 1 and recorded in the csv file. This final csv was then uploaded to the SQL server for future reference, if needed"
   ]
  },
  {
   "cell_type": "markdown",
   "metadata": {},
   "source": [
    "~~~\n",
    "# Read labeled csv file, upload to SQL server under table name ct_training_data\n",
    "\n",
    "training_df = pd.read_csv('../data/redacted_training.csv')\n",
    "cnxn = pyodbc.connect('DRIVER={SQL Server};SERVER=ga-cc12-s5.database.windows.net;DATABASE=ga_p5;UID=ga;PWD=[REDACTED]')\n",
    "cursor = cnxn.cursor()\n",
    "cursor.execute('CREATE TABLE ct_training_data (tweet varchar(1023), label int)')\n",
    "for index, row in training_df.iterrows():\n",
    "    cursor.execute(\"INSERT INTO ct_training_data (tweet, label) values(?,?)\", row['tweet'], row['label'])\n",
    "cnxn.commit()\n",
    "cursor.close()\n",
    "~~~"
   ]
  },
  {
   "cell_type": "markdown",
   "metadata": {},
   "source": [
    "# EDA\n",
    "\n",
    "##### For the purposes of our problem, we were interested in two things: a user's location, and whether a tweet was relevant to mapping incidences of covid-19. Unfortunately, due to the nature of social media, and twitter in particular, creating a robust training data set from the available information was not possible. For geolocation, very few users choose to include their place of residence in their profile. For both city and state, more than 60% of users do not have relevant information pertaining to their location"
   ]
  },
  {
   "cell_type": "code",
   "execution_count": 2,
   "metadata": {},
   "outputs": [
    {
     "data": {
      "image/png": "[encoded data removed]",
      "text/plain": [
       "<Figure size 360x360 with 1 Axes>"
      ]
     },
     "metadata": {},
     "output_type": "display_data"
    },
    {
     "name": "stdout",
     "output_type": "stream",
     "text": [
      "Number of Users: 4158\n"
     ]
    }
   ],
   "source": [
    "df = pd.read_csv('../data/user_loc.csv')\n",
    "df.isna().mean()*100\n",
    "pf.create_bar(df[['city','state']].isna().mean()*100, 'Missing User Location', ylabel='Percent', ticks=['City','State'], size=(5,5))\n",
    "print(f'Number of Users: {len(df)}')"
   ]
  },
  {
   "cell_type": "markdown",
   "metadata": {},
   "source": [
    "##### In addition, most tweets mentioning testing positive are not referring to nearby cases, but are often in reference to news stories, celebrities, politics, or memes. From our manual labeling, only about 5% of the tweets were useful for our purposes"
   ]
  },
  {
   "cell_type": "code",
   "execution_count": 10,
   "metadata": {},
   "outputs": [
    {
     "name": "stdout",
     "output_type": "stream",
     "text": [
      "Number of Tweets: 4481\n",
      "Percent Positive: 5.53\n"
     ]
    }
   ],
   "source": [
    "df = pd.read_csv('../data/redacted_training.csv')\n",
    "df.fillna(0, inplace=True)\n",
    "print(f'Number of Tweets: {len(df)}\\nPercent Positive: {round(df[\"label\"].mean()*100, 2)}')"
   ]
  }
 ],
 "metadata": {
  "kernelspec": {
   "display_name": "Python 3",
   "language": "python",
   "name": "python3"
  },
  "language_info": {
   "codemirror_mode": {
    "name": "ipython",
    "version": 3
   },
   "file_extension": ".py",
   "mimetype": "text/x-python",
   "name": "python",
   "nbconvert_exporter": "python",
   "pygments_lexer": "ipython3",
   "version": "3.7.6"
  }
 },
 "nbformat": 4,
 "nbformat_minor": 4
}
