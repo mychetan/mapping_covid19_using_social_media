{
 "cells": [
  {
   "cell_type": "markdown",
   "metadata": {},
   "source": [
    "## Data Modeling"
   ]
  },
  {
   "cell_type": "code",
   "execution_count": 5,
   "metadata": {},
   "outputs": [],
   "source": [
    "#Imported Libraries\n",
    "import pickle \n",
    "import numpy as np\n",
    "import pandas as pd \n",
    "import matplotlib.pyplot as plt\n",
    "from sklearn.pipeline import Pipeline\n",
    "from sklearn.naive_bayes import MultinomialNB\n",
    "from sklearn.linear_model import LogisticRegression\n",
    "from sklearn.metrics import confusion_matrix, plot_confusion_matrix\n",
    "from sklearn.model_selection import train_test_split, GridSearchCV, cross_val_score\n",
    "from sklearn.ensemble import GradientBoostingClassifier, VotingClassifier, RandomForestClassifier"
   ]
  },
  {
   "cell_type": "markdown",
   "metadata": {},
   "source": [
    "### Data Preparation\n",
    "\n",
    "The code below will first separate the X (predictor) and y (target) variables. Features isolated from the Logistic Regression are used as predictors together with the engineered website_link column. The y-variable will be stratified to maintain the 54% positive and 46% negative ratio. Lastly, a  function called metric will print out the testing and training accuracy, specificity, and sensitivity scores. "
   ]
  },
  {
   "cell_type": "code",
   "execution_count": 6,
   "metadata": {},
   "outputs": [],
   "source": [
    "#Read cleaned and tokenized data\n",
    "train = pd.read_csv('../data/train_clean_token.csv', index_col=0)\n",
    "\n",
    "#Load saved feature_list and add website_link column to the features\n",
    "feature = pickle.load(open('pickle/feature.pkl', \"rb\"))\n",
    "feature.append('website_link')\n",
    "\n",
    "#Identify the X and y variable and split the data into training and testing set \n",
    "X = train[feature]\n",
    "y = train['label']\n",
    "\n",
    "X_train, X_test, y_train, y_test = train_test_split(X,y,random_state=42, stratify=y)\n",
    "\n",
    "#A metric function that prints out training and testing accuracy, specificity, and sensitivity score. \n",
    "def metric(model): \n",
    "    '''Print out testing and training accuracy, sensitivity, and specificity score'''\n",
    "    preds = model.predict(X_test)\n",
    "    tn, fp, fn, tp = confusion_matrix(y_test, preds).ravel()\n",
    "    print(f'Best Paramters: {model.best_params_}')\n",
    "    print(f'Training score: {model.score(X_train, y_train)}')\n",
    "    print(f'Testing score: {model.score(X_test, y_test)}')\n",
    "    print(f'Specificity: {tn/(tn + fp)}')\n",
    "    print(f'Sensitivity: {tp/(tp + fn)}')"
   ]
  },
  {
   "cell_type": "markdown",
   "metadata": {},
   "source": [
    "### Modeling \n",
    "Since the model's goal is to classify tweets as a positive or negative class accurately, a Random Forest Classifier and Gradient Boosting Classifier were chosen since they are excellent at getting high accuracy scores. However, they also tend to overfit quickly. Therefore, Logistic Regression and Multinomial Naive Bayes are used in conjunction with the two mentioned models. This is because they are simpler and easier models to regularize. To further maximize the accuracy score, a Voting Classifier was created comprising the three out of the four models mentioned with the highest testing accuracy score (Logistic Regression, Gradient Boosting Classifier, and Random Forest Classifier). Lastly, sensitivity and specificity are considered as metrics to measure model success. "
   ]
  },
  {
   "cell_type": "code",
   "execution_count": 9,
   "metadata": {
    "scrolled": false
   },
   "outputs": [
    {
     "name": "stdout",
     "output_type": "stream",
     "text": [
      "Model 1: Logictics Regression\n",
      "Best Paramters: {'C': 3.727593720314938}\n",
      "Training score: 0.8276699029126213\n",
      "Testing score: 0.8115942028985508\n",
      "Specificity: 0.7777777777777778\n",
      "Sensitivity: 0.84\n",
      "\n",
      "Model 2: Multinomial Naive Bayes\n",
      "Best Paramters: {'alpha': 0.01}\n",
      "Training score: 0.7766990291262136\n",
      "Testing score: 0.7753623188405797\n",
      "Specificity: 0.7301587301587301\n",
      "Sensitivity: 0.8133333333333334\n",
      "\n",
      "Model 3: Gradient Boosting Classifier\n",
      "Best Paramters: {'learning_rate': 0.2, 'max_features': None, 'min_samples_split': 5, 'n_estimators': 100}\n",
      "Training score: 0.9344660194174758\n",
      "Testing score: 0.8478260869565217\n",
      "Specificity: 0.8095238095238095\n",
      "Sensitivity: 0.88\n",
      "\n",
      "Model 4: Random Forest Classifier\n",
      "Best Paramters: {'max_features': 'auto', 'min_samples_leaf': 5, 'min_samples_split': 2}\n",
      "Training score: 0.8131067961165048\n",
      "Testing score: 0.7898550724637681\n",
      "Specificity: 0.7619047619047619\n",
      "Sensitivity: 0.8133333333333334\n",
      "\n",
      "Model 5: Voting Classifier\n",
      "Best Paramters: {'lr__C': 26.826957952797247}\n",
      "Training score: 0.8567961165048543\n",
      "Testing score: 0.8478260869565217\n",
      "Specificity: 0.8412698412698413\n",
      "Sensitivity: 0.8533333333333334\n",
      "\n"
     ]
    }
   ],
   "source": [
    "#Setup Voting Classifier that will be use to aggregate models with high accuracy score.\n",
    "vote = VotingClassifier([\n",
    "    ('gb', GradientBoostingClassifier(random_state=42, min_samples_leaf=5, \n",
    "                                             min_samples_split=4)),\n",
    "    ('rf', RandomForestClassifier(random_state=42, min_samples_leaf=5, min_samples_split=2)),\n",
    "    ('lr', LogisticRegression(solver='liblinear'))\n",
    "])\n",
    "\n",
    "#List of models\n",
    "model = [LogisticRegression(solver='liblinear'), MultinomialNB(), \n",
    "         GradientBoostingClassifier(random_state=42),\n",
    "        RandomForestClassifier(random_state=42),\n",
    "        vote]\n",
    "\n",
    "#List of names to be use to label model\n",
    "model_short = ['lr', 'nb', 'gb', 'rf', 'vote']\n",
    "\n",
    "#List of names to be use to separate models\n",
    "model_name = ['Logictics Regression', 'Multinomial Naive Bayes', \n",
    "              'Gradient Boosting Classifier', 'Random Forest Classifier', 'Voting Classifier'] \n",
    "\n",
    "#Model parameters \n",
    "alpha = np.logspace(-2,10,15) \n",
    "lr_param = {'C': alpha}\n",
    "nb_param = {'alpha': alpha}\n",
    "gb_param = {'learning_rate': [0.2], 'n_estimators': [100],'max_features' : [None, 'auto'], \n",
    "            'min_samples_split':[5]}\n",
    "rf_param =  {'min_samples_split': [2,3,4],'min_samples_leaf': [5], 'max_features' : [None, 'auto']}\n",
    "vote_param = {'lr__C': alpha}\n",
    "\n",
    "params = [lr_param, nb_param, gb_param, rf_param, vote_param]\n",
    "              \n",
    "#A list to store trained models \n",
    "trained_models = [] \n",
    "\n",
    "#For Loop that will fit and run a Gridsearch to fine-tune each model. \n",
    "#It would then print out metric scores using the metric function defined above. \n",
    "for i in range(len(model_name)):\n",
    "    print(f'Model {i+1}: {model_name[i]}')\n",
    "    param = params[i]\n",
    "    model_short[i] = GridSearchCV(model[i], param, cv=5)\n",
    "    model_short[i].fit(X_train, y_train)\n",
    "    metric(model_short[i])\n",
    "    trained_models.append(model_short[i])\n",
    "    print(\"\")"
   ]
  },
  {
   "cell_type": "markdown",
   "metadata": {},
   "source": [
    "### Confusion Matrix: \n",
    "A confusion matrix was used to assess the specificity and sensitivity scores. Out of the five models, the Voting Classifier performs best with the highest testing accuracy score without overfitting, while minimizing the false positives and negatives.\n",
    "\n",
    "1. Logistic Regression\n",
    "2. Multinomial Naive Bayes \n",
    "3. Gradient Boosting Classifier \n",
    "4. Random Forest Classifier\n",
    "5. Voting Classifier  "
   ]
  },
  {
   "cell_type": "code",
   "execution_count": 160,
   "metadata": {},
   "outputs": [
    {
     "name": "stdout",
     "output_type": "stream",
     "text": [
      "Logistic Regression\n"
     ]
    },
    {
     "data": {
      "image/png": "[encoded data removed]",
      "text/plain": [
       "<Figure size 432x288 with 2 Axes>"
      ]
     },
     "metadata": {
      "needs_background": "light"
     },
     "output_type": "display_data"
    }
   ],
   "source": [
    "print('Logistic Regression')\n",
    "plot_confusion_matrix(trained_models[0], X_test, y_test, cmap='Blues');"
   ]
  },
  {
   "cell_type": "code",
   "execution_count": 163,
   "metadata": {
    "scrolled": true
   },
   "outputs": [
    {
     "name": "stdout",
     "output_type": "stream",
     "text": [
      "MultinomialNB\n"
     ]
    },
    {
     "data": {
      "image/png": "[encoded data removed]",
      "text/plain": [
       "<Figure size 432x288 with 2 Axes>"
      ]
     },
     "metadata": {
      "needs_background": "light"
     },
     "output_type": "display_data"
    }
   ],
   "source": [
    "print('MultinomialNB')\n",
    "plot_confusion_matrix(trained_models[1], X_test, y_test, cmap='Blues');"
   ]
  },
  {
   "cell_type": "code",
   "execution_count": 164,
   "metadata": {},
   "outputs": [
    {
     "name": "stdout",
     "output_type": "stream",
     "text": [
      "Gradient Boosting Classifier\n"
     ]
    },
    {
     "data": {
      "image/png": "[encoded data removed]",
      "text/plain": [
       "<Figure size 432x288 with 2 Axes>"
      ]
     },
     "metadata": {
      "needs_background": "light"
     },
     "output_type": "display_data"
    }
   ],
   "source": [
    "print('Gradient Boosting Classifier')\n",
    "plot_confusion_matrix(trained_models[2], X_test, y_test, cmap='Blues');"
   ]
  },
  {
   "cell_type": "code",
   "execution_count": 165,
   "metadata": {},
   "outputs": [
    {
     "name": "stdout",
     "output_type": "stream",
     "text": [
      "Random Forest Classifier\n"
     ]
    },
    {
     "data": {
      "image/png": "[encoded data removed]",
      "text/plain": [
       "<Figure size 432x288 with 2 Axes>"
      ]
     },
     "metadata": {
      "needs_background": "light"
     },
     "output_type": "display_data"
    }
   ],
   "source": [
    "print('Random Forest Classifier')\n",
    "plot_confusion_matrix(trained_models[3], X_test, y_test, cmap='Blues');"
   ]
  },
  {
   "cell_type": "code",
   "execution_count": 166,
   "metadata": {},
   "outputs": [
    {
     "name": "stdout",
     "output_type": "stream",
     "text": [
      "Voting Classifier\n"
     ]
    },
    {
     "data": {
      "image/png": "[encoded data removed]",
      "text/plain": [
       "<Figure size 432x288 with 2 Axes>"
      ]
     },
     "metadata": {
      "needs_background": "light"
     },
     "output_type": "display_data"
    }
   ],
   "source": [
    "print('Voting Classifier')\n",
    "plot_confusion_matrix(trained_models[4], X_test, y_test, cmap='Blues');"
   ]
  },
  {
   "cell_type": "code",
   "execution_count": 107,
   "metadata": {},
   "outputs": [],
   "source": [
    "#Pickling Model to be use for prediction\n",
    "pd.to_pickle(trained_models[4], 'pickle/model.pkl')"
   ]
  }
 ],
 "metadata": {
  "kernelspec": {
   "display_name": "Python 3",
   "language": "python",
   "name": "python3"
  },
  "language_info": {
   "codemirror_mode": {
    "name": "ipython",
    "version": 3
   },
   "file_extension": ".py",
   "mimetype": "text/x-python",
   "name": "python",
   "nbconvert_exporter": "python",
   "pygments_lexer": "ipython3",
   "version": "3.7.6"
  }
 },
 "nbformat": 4,
 "nbformat_minor": 4
}
