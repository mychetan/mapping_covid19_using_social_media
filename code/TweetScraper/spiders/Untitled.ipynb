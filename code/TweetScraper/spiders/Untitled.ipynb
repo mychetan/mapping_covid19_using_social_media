{
 "cells": [
  {
   "cell_type": "code",
   "execution_count": 40,
   "metadata": {},
   "outputs": [],
   "source": [
    "import requests\n",
    "import urllib\n",
    "import json\n",
    "import time\n",
    "from bs4 import BeautifulSoup\n",
    "from selenium import webdriver\n",
    "from selenium.webdriver.chrome.options import Options"
   ]
  },
  {
   "cell_type": "code",
   "execution_count": 32,
   "metadata": {},
   "outputs": [],
   "source": [
    "user = requests.get('https://twitter.com/kylegriffin1?lang=en')"
   ]
  },
  {
   "cell_type": "code",
   "execution_count": 34,
   "metadata": {},
   "outputs": [],
   "source": [
    "html = urllib.request.urlopen('https://twitter.com/kylegriffin1?lang=en').read()\n",
    "soup = BeautifulSoup(html, 'lxml')"
   ]
  },
  {
   "cell_type": "code",
   "execution_count": 95,
   "metadata": {},
   "outputs": [],
   "source": [
    "# Code taken from \n",
    "# https://stackoverflow.com/questions/52687372/beautifulsoup-not-returning-complete-html-of-the-page\n",
    "\n",
    "url = 'https://twitter.com/kylegriffin1?lang=en'\n",
    "c_options = Options()\n",
    "c_options.add_argument('--headless')\n",
    "c_options.add_argument('--disable-gpu')\n",
    "driver = webdriver.Chrome(options=c_options)\n",
    "driver.get(url)\n",
    "time.sleep(3)\n",
    "page = driver.page_source\n",
    "driver.quit()\n",
    "soup = BeautifulSoup(page, 'html.parser')\n",
    "container = soup.find_all('span', attrs={\n",
    "    'class':'css-901oao css-16my406 r-1qd0xha r-ad9z0x r-bcqeeo r-qvutc0'})"
   ]
  },
  {
   "cell_type": "code",
   "execution_count": 105,
   "metadata": {},
   "outputs": [],
   "source": [
    "loc = soup.find('div', {'data-testid':'UserProfileHeader_Items'}).findChildren('span')[1].text"
   ]
  },
  {
   "cell_type": "code",
   "execution_count": 106,
   "metadata": {},
   "outputs": [
    {
     "data": {
      "text/plain": [
       "['Manhattan', 'NY']"
      ]
     },
     "execution_count": 106,
     "metadata": {},
     "output_type": "execute_result"
    }
   ],
   "source": [
    "loc.replace(',', '').split()"
   ]
  },
  {
   "cell_type": "code",
   "execution_count": null,
   "metadata": {},
   "outputs": [],
   "source": []
  }
 ],
 "metadata": {
  "kernelspec": {
   "display_name": "Python 3",
   "language": "python",
   "name": "python3"
  },
  "language_info": {
   "codemirror_mode": {
    "name": "ipython",
    "version": 3
   },
   "file_extension": ".py",
   "mimetype": "text/x-python",
   "name": "python",
   "nbconvert_exporter": "python",
   "pygments_lexer": "ipython3",
   "version": "3.7.6"
  }
 },
 "nbformat": 4,
 "nbformat_minor": 4
}
